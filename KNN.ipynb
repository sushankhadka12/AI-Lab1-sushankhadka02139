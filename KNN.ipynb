{
  "nbformat": 4,
  "nbformat_minor": 0,
  "metadata": {
    "colab": {
      "provenance": [],
      "authorship_tag": "ABX9TyMWeGl0qXj3mRH+PI/Is/yA",
      "include_colab_link": true
    },
    "kernelspec": {
      "name": "python3",
      "display_name": "Python 3"
    },
    "language_info": {
      "name": "python"
    }
  },
  "cells": [
    {
      "cell_type": "markdown",
      "metadata": {
        "id": "view-in-github",
        "colab_type": "text"
      },
      "source": [
        "<a href=\"https://colab.research.google.com/github/sushankhadka12/AI-Lab1-sushankhadka02139/blob/main/KNN.ipynb\" target=\"_parent\"><img src=\"https://colab.research.google.com/assets/colab-badge.svg\" alt=\"Open In Colab\"/></a>"
      ]
    },
    {
      "cell_type": "code",
      "source": [
        "import math\n",
        "import random"
      ],
      "metadata": {
        "id": "haM1yuOWlR5_"
      },
      "execution_count": 77,
      "outputs": []
    },
    {
      "cell_type": "markdown",
      "source": [],
      "metadata": {
        "id": "0W78fYRTlRqG"
      }
    },
    {
      "cell_type": "code",
      "source": [
        "import math\n",
        "\n",
        "def distance(x1,x2):\n",
        "    distance_sq = 0.0\n",
        "    for i in range(len(x1)):\n",
        "      distance_sq += (x1[i]-x2[i])**2\n",
        "    return math.sqrt(distance_sq)"
      ],
      "metadata": {
        "id": "WVAxN9N5jWLU"
      },
      "execution_count": 78,
      "outputs": []
    },
    {
      "cell_type": "code",
      "source": [
        "from typing import Counter\n",
        "def knn(dataset,input,k):\n",
        "  distances = []\n",
        "  for row  in dataset:\n",
        "    label = row[-1]\n",
        "    features = row[:-1]\n",
        "    dist = distance(features,input)\n",
        "    distances.append((dist,label))\n",
        "  distances.sort(key = lambda z :z[0])\n",
        "  kneighbour = [label for (_,label) in distances[:k]]\n",
        "  common = Counter(kneighbour).most_common(1)\n",
        "  return  common[0][0]"
      ],
      "metadata": {
        "id": "lYAGvKqhl3eo"
      },
      "execution_count": 79,
      "outputs": []
    },
    {
      "cell_type": "code",
      "source": [
        "def accuracy(datacollection):\n",
        "  datacollection = datacollection.copy()\n",
        "  random.shuffle(datacollection)\n",
        "  dividingindex = int(len(datacollection)*0.8)\n",
        "  train = datacollection[:dividingindex]\n",
        "  test = datacollection[dividingindex:]\n",
        "  correct = 0\n",
        "  for row in test:\n",
        "    label = row[-1]\n",
        "    features = row[:-1]\n",
        "    prediction = knn(train,features,k)\n",
        "    if prediction == label:\n",
        "      correct+=1\n",
        "  return correct/len(test)\n",
        "\n"
      ],
      "metadata": {
        "id": "22IeEK1UjrcG"
      },
      "execution_count": 80,
      "outputs": []
    },
    {
      "cell_type": "code",
      "source": [
        "k= int(input(\"Enter the value of k \"))"
      ],
      "metadata": {
        "id": "na9yO6EkzG-W",
        "colab": {
          "base_uri": "https://localhost:8080/"
        },
        "outputId": "94d7ad18-35ac-4902-8466-1fb667b91038"
      },
      "execution_count": 81,
      "outputs": [
        {
          "name": "stdout",
          "output_type": "stream",
          "text": [
            "Enter the value of k 2\n"
          ]
        }
      ]
    },
    {
      "cell_type": "code",
      "source": [
        "numbers = list(map(float,input(\"Enter the value by space separated \").split()))"
      ],
      "metadata": {
        "colab": {
          "base_uri": "https://localhost:8080/"
        },
        "id": "pJdXA1Dn2VX0",
        "outputId": "636ad6be-bca6-4bbb-d092-bee9fcc608b7"
      },
      "execution_count": 82,
      "outputs": [
        {
          "name": "stdout",
          "output_type": "stream",
          "text": [
            "Enter the value by space separated 5 9\n"
          ]
        }
      ]
    },
    {
      "cell_type": "code",
      "source": [
        "dataset = [\n",
        "    [2.0, 4.0, 'A'],\n",
        "    [1.0, 3.0, 'A'],\n",
        "    [5.0, 8.0, 'B'],\n",
        "    [6.0, 9.0, 'B'],\n",
        "    [1.5, 2.5, 'A'],\n",
        "    [8.0, 9.0, 'B']\n",
        "]"
      ],
      "metadata": {
        "id": "XHy8W0m_4BL2"
      },
      "execution_count": 83,
      "outputs": []
    },
    {
      "cell_type": "code",
      "source": [
        "acc = accuracy(dataset)\n",
        "print(f\"Accuracy is {acc*100:.2f}%\")\n",
        "\n"
      ],
      "metadata": {
        "colab": {
          "base_uri": "https://localhost:8080/"
        },
        "id": "KazThdkXjoHp",
        "outputId": "6832ba7e-ecd3-4145-d395-f0195208aceb"
      },
      "execution_count": 84,
      "outputs": [
        {
          "output_type": "stream",
          "name": "stdout",
          "text": [
            "Accuracy is 100.00%\n"
          ]
        }
      ]
    },
    {
      "cell_type": "code",
      "source": [
        "finding = knn(dataset,numbers,k)\n",
        "print(f\"Label lies in, {finding}\")"
      ],
      "metadata": {
        "colab": {
          "base_uri": "https://localhost:8080/"
        },
        "id": "QeK5oBnK4cGW",
        "outputId": "bd21b025-78b3-41db-f20e-702a60fc7b9e"
      },
      "execution_count": 85,
      "outputs": [
        {
          "output_type": "stream",
          "name": "stdout",
          "text": [
            "Label lies in, B\n"
          ]
        }
      ]
    }
  ]
}
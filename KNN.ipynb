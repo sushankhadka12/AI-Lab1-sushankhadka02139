{
  "nbformat": 4,
  "nbformat_minor": 0,
  "metadata": {
    "colab": {
      "provenance": [],
      "authorship_tag": "ABX9TyOzCOWOGnRipAWobSOJChYR",
      "include_colab_link": true
    },
    "kernelspec": {
      "name": "python3",
      "display_name": "Python 3"
    },
    "language_info": {
      "name": "python"
    }
  },
  "cells": [
    {
      "cell_type": "markdown",
      "metadata": {
        "id": "view-in-github",
        "colab_type": "text"
      },
      "source": [
        "<a href=\"https://colab.research.google.com/github/sushankhadka12/AI-Lab1-sushankhadka02139/blob/main/KNN.ipynb\" target=\"_parent\"><img src=\"https://colab.research.google.com/assets/colab-badge.svg\" alt=\"Open In Colab\"/></a>"
      ]
    },
    {
      "cell_type": "code",
      "source": [
        "import math"
      ],
      "metadata": {
        "id": "haM1yuOWlR5_"
      },
      "execution_count": 1,
      "outputs": []
    },
    {
      "cell_type": "markdown",
      "source": [],
      "metadata": {
        "id": "0W78fYRTlRqG"
      }
    },
    {
      "cell_type": "code",
      "source": [
        "import math\n",
        "\n",
        "def distance(x1,x2):\n",
        "    distance_sq = 0.0\n",
        "    for i in range(len(x1)):\n",
        "      distance_sq += (x1[i]-x2[i])**2\n",
        "    return math.sqrt(distance_sq)"
      ],
      "metadata": {
        "id": "WVAxN9N5jWLU"
      },
      "execution_count": 2,
      "outputs": []
    },
    {
      "cell_type": "code",
      "source": [
        "from typing import Counter\n",
        "def knn(dataset,input,k):\n",
        "  distances = []\n",
        "  for row  in dataset:\n",
        "    label = row[-1]\n",
        "    features = row[:-1]\n",
        "    dist = distance(features,input)\n",
        "    distances.append((dist,label))\n",
        "  distances.sort(key = lambda z :z[0])\n",
        "  kneighbour = [label for (_,label) in distances[:k]]\n",
        "  common = Counter(kneighbour).most_common(1)\n",
        "  return  common[0][0]"
      ],
      "metadata": {
        "id": "lYAGvKqhl3eo"
      },
      "execution_count": 3,
      "outputs": []
    },
    {
      "cell_type": "code",
      "source": [
        "k= int(input(\"Enter the value of k \"))"
      ],
      "metadata": {
        "id": "na9yO6EkzG-W",
        "colab": {
          "base_uri": "https://localhost:8080/"
        },
        "outputId": "3029f603-45a5-43ef-d6da-d2dab4d12f9a"
      },
      "execution_count": 9,
      "outputs": [
        {
          "name": "stdout",
          "output_type": "stream",
          "text": [
            "Enter the value of k 3\n"
          ]
        }
      ]
    },
    {
      "cell_type": "code",
      "source": [
        "numbers = list(map(float,input(\"Enter the value by space separated \").split()))"
      ],
      "metadata": {
        "colab": {
          "base_uri": "https://localhost:8080/"
        },
        "id": "pJdXA1Dn2VX0",
        "outputId": "9cb35802-1b90-4406-98be-6eeca22262a3"
      },
      "execution_count": 10,
      "outputs": [
        {
          "name": "stdout",
          "output_type": "stream",
          "text": [
            "Enter the value by space separated 5.0 6.0\n"
          ]
        }
      ]
    },
    {
      "cell_type": "code",
      "source": [
        "dataset = [\n",
        "    [2.0, 4.0, 'A'],\n",
        "    [1.0, 3.0, 'A'],\n",
        "    [5.0, 8.0, 'B'],\n",
        "    [6.0, 9.0, 'B'],\n",
        "    [1.5, 2.5, 'A'],\n",
        "    [8.0, 9.0, 'B']\n",
        "]"
      ],
      "metadata": {
        "id": "XHy8W0m_4BL2"
      },
      "execution_count": 6,
      "outputs": []
    },
    {
      "cell_type": "code",
      "source": [
        "finding = knn(dataset,numbers,k)\n",
        "print(f\"Label lies in, {finding}\")"
      ],
      "metadata": {
        "colab": {
          "base_uri": "https://localhost:8080/"
        },
        "id": "QeK5oBnK4cGW",
        "outputId": "140dc67f-1238-4541-9b8a-4e027f3263ff"
      },
      "execution_count": 11,
      "outputs": [
        {
          "output_type": "stream",
          "name": "stdout",
          "text": [
            "Label lies in, B\n"
          ]
        }
      ]
    }
  ]
}
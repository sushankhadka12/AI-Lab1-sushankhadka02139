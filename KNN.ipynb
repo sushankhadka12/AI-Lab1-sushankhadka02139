{
  "nbformat": 4,
  "nbformat_minor": 0,
  "metadata": {
    "colab": {
      "provenance": [],
      "authorship_tag": "ABX9TyP0Q3K7LPzPrSMFP4g2zROr",
      "include_colab_link": true
    },
    "kernelspec": {
      "name": "python3",
      "display_name": "Python 3"
    },
    "language_info": {
      "name": "python"
    }
  },
  "cells": [
    {
      "cell_type": "markdown",
      "metadata": {
        "id": "view-in-github",
        "colab_type": "text"
      },
      "source": [
        "<a href=\"https://colab.research.google.com/github/sushankhadka12/AI-Lab1-sushankhadka02139/blob/main/KNN.ipynb\" target=\"_parent\"><img src=\"https://colab.research.google.com/assets/colab-badge.svg\" alt=\"Open In Colab\"/></a>"
      ]
    },
    {
      "cell_type": "code",
      "source": [
        "dataset = [\n",
        "    []\n",
        "]"
      ],
      "metadata": {
        "id": "jnWb-_XEV8re"
      },
      "execution_count": 5,
      "outputs": []
    },
    {
      "cell_type": "code",
      "source": [
        "import math"
      ],
      "metadata": {
        "id": "haM1yuOWlR5_"
      },
      "execution_count": 6,
      "outputs": []
    },
    {
      "cell_type": "markdown",
      "source": [],
      "metadata": {
        "id": "0W78fYRTlRqG"
      }
    },
    {
      "cell_type": "code",
      "source": [
        "def distance(x1,x2):\n",
        "    distance = 0.0\n",
        "    for i in range(len(x1)):\n",
        "      distance += (x1[i]-x2[i]**2)\n",
        "      return math.sqrt(distance)"
      ],
      "metadata": {
        "id": "WVAxN9N5jWLU"
      },
      "execution_count": null,
      "outputs": []
    },
    {
      "cell_type": "code",
      "source": [
        "from typing import Counter\n",
        "def knn(x,y,k):\n",
        "  distances = []\n",
        "  column_num = len(dataset[0])\n",
        "  for row  in dataset:\n",
        "    label = row[-1]\n",
        "    features = row[:-1]\n",
        "    dist = distance(features,input)\n",
        "    distances.append((dist,label))\n",
        "    distances.sort(key = lambda z :z[0])\n",
        "    kneighbour = [label for (_,label) in distances[:k]]\n",
        "    common = Counter(kneighbour).most_common(1)\n",
        "    return  common[0][0]\n",
        "\n",
        "\n",
        "\n",
        "\n"
      ],
      "metadata": {
        "id": "lYAGvKqhl3eo"
      },
      "execution_count": 7,
      "outputs": []
    },
    {
      "cell_type": "code",
      "source": [
        "o= (float)input()\n",
        "finding =knn(dataset)"
      ],
      "metadata": {
        "id": "na9yO6EkzG-W"
      },
      "execution_count": null,
      "outputs": []
    }
  ]
}